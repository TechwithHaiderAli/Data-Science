{
  "nbformat": 4,
  "nbformat_minor": 0,
  "metadata": {
    "colab": {
      "provenance": []
    },
    "kernelspec": {
      "name": "python3",
      "display_name": "Python 3"
    },
    "language_info": {
      "name": "python"
    }
  },
  "cells": [
    {
      "cell_type": "code",
      "execution_count": 1,
      "metadata": {
        "id": "zUdaoMsIYwl2"
      },
      "outputs": [],
      "source": [
        "import math"
      ]
    },
    {
      "cell_type": "code",
      "source": [
        "# Example dataset with 10 elec=ments 4 in A and 6 in B\n",
        "n_A=4\n",
        "n_B=6\n",
        "total=n_A+ n_B"
      ],
      "metadata": {
        "id": "EjmhAAHpY9tr"
      },
      "execution_count": 2,
      "outputs": []
    },
    {
      "cell_type": "code",
      "source": [
        "#  calculate the proportions of n_A and n_B\n",
        "\n",
        "prop_A = n_A/total\n",
        "prop_B = n_B/total\n",
        "\n",
        "print(f\"Proportion of n_A: {prop_A}\")\n",
        "print(f\"Proportion of n_B: {prop_B}\")\n"
      ],
      "metadata": {
        "colab": {
          "base_uri": "https://localhost:8080/"
        },
        "id": "wTq10v7BZQF1",
        "outputId": "b555645f-1a32-4922-d529-571368ad9ecd"
      },
      "execution_count": 3,
      "outputs": [
        {
          "output_type": "stream",
          "name": "stdout",
          "text": [
            "Proportion of n_A: 0.4\n",
            "Proportion of n_B: 0.6\n"
          ]
        }
      ]
    },
    {
      "cell_type": "code",
      "source": [
        "#  calculate entropy\n",
        "\n",
        "entropy = -prop_A * math.log2(prop_A) - prop_B * math.log2(prop_B)\n",
        "print(f\"Entropy: {entropy}\")\n"
      ],
      "metadata": {
        "colab": {
          "base_uri": "https://localhost:8080/"
        },
        "id": "1c_NKErnZaPg",
        "outputId": "da575026-99a1-428b-f53a-7b27a68606ed"
      },
      "execution_count": 4,
      "outputs": [
        {
          "output_type": "stream",
          "name": "stdout",
          "text": [
            "Entropy: 0.9709505944546686\n"
          ]
        }
      ]
    },
    {
      "cell_type": "code",
      "source": [
        "#  calculate gini impurtiy\n",
        "\n",
        "gini_impurity = 1 - (prop_A**2 + prop_B**2)\n",
        "print(f\"Gini impurity: {gini_impurity}\")\n"
      ],
      "metadata": {
        "colab": {
          "base_uri": "https://localhost:8080/"
        },
        "id": "q9zoYbuCZoEM",
        "outputId": "433234e3-4f10-4393-cab4-91d2d410247e"
      },
      "execution_count": 5,
      "outputs": [
        {
          "output_type": "stream",
          "name": "stdout",
          "text": [
            "Gini impurity: 0.48\n"
          ]
        }
      ]
    }
  ]
}