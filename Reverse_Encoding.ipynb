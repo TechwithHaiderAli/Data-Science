{
  "nbformat": 4,
  "nbformat_minor": 0,
  "metadata": {
    "colab": {
      "provenance": []
    },
    "kernelspec": {
      "name": "python3",
      "display_name": "Python 3"
    },
    "language_info": {
      "name": "python"
    }
  },
  "cells": [
    {
      "cell_type": "markdown",
      "source": [
        "\n",
        "In scikit-learn (sklearn), preprocessing data is an essential step in machine learning pipelines. One of the common preprocessing techniques is encoding categorical variables into numerical values. However, sometimes we might want to do the inverse operation, which is decoding numerical values back into categorical values. This process is referred to as \"inverse encoding.\"\n",
        "\n"
      ],
      "metadata": {
        "id": "dJAWD5VZ7F4L"
      }
    },
    {
      "cell_type": "code",
      "execution_count": 1,
      "metadata": {
        "colab": {
          "base_uri": "https://localhost:8080/"
        },
        "id": "bFzoWxsZ2nif",
        "outputId": "d99fe096-887c-47e6-8fd4-1e3bd20de5c9"
      },
      "outputs": [
        {
          "output_type": "stream",
          "name": "stdout",
          "text": [
            "Encoded data: [1 2 0 1 2]\n",
            "Decoded data: ['cat' 'dog' 'bird' 'cat' 'dog']\n"
          ]
        }
      ],
      "source": [
        "from sklearn.preprocessing import LabelEncoder\n",
        "\n",
        "# Example data\n",
        "data = ['cat', 'dog', 'bird', 'cat', 'dog']\n",
        "\n",
        "# Instantiate the LabelEncoder\n",
        "encoder = LabelEncoder()\n",
        "\n",
        "# Fit the encoder to the data and transform the data\n",
        "encoded_data = encoder.fit_transform(data)\n",
        "\n",
        "print(\"Encoded data:\", encoded_data)  # [0, 1, 2, 0, 1]\n",
        "\n",
        "# Now let's perform inverse encoding\n",
        "decoded_data = encoder.inverse_transform(encoded_data)\n",
        "\n",
        "print(\"Decoded data:\", decoded_data)  # ['cat', 'dog', 'bird', 'cat', 'dog']\n"
      ]
    },
    {
      "cell_type": "markdown",
      "source": [
        "### The OrdinalEncoder in scikit-learn is used to encode categorical features as an integer array. It is similar to LabelEncoder, but it can handle multiple features simultaneously. Here's how you can use OrdinalEncoder along with inverse encoding:"
      ],
      "metadata": {
        "id": "AWXieZeL7RyC"
      }
    },
    {
      "cell_type": "code",
      "source": [
        "from sklearn.preprocessing import OrdinalEncoder\n",
        "\n",
        "# Example data\n",
        "data = [['red', 'small'],\n",
        "        ['green', 'medium'],\n",
        "        ['blue', 'large'],\n",
        "        ['blue', 'small'],\n",
        "        ['red', 'large']]\n",
        "\n",
        "# Instantiate the OrdinalEncoder\n",
        "encoder = OrdinalEncoder()\n",
        "\n",
        "# Fit the encoder to the data and transform the data\n",
        "encoded_data = encoder.fit_transform(data)\n",
        "\n",
        "print(\"Encoded data:\")\n",
        "for row in encoded_data:\n",
        "    print(row)\n",
        "\n",
        "# Now let's perform inverse encoding\n",
        "decoded_data = encoder.inverse_transform(encoded_data)\n",
        "\n",
        "print(\"\\nDecoded data:\")\n",
        "for row in decoded_data:\n",
        "    print(row)\n",
        "\n"
      ],
      "metadata": {
        "colab": {
          "base_uri": "https://localhost:8080/"
        },
        "id": "UY6pnLyO7Myj",
        "outputId": "b7f3379e-15df-4744-96e8-ddd6cebf3f3d"
      },
      "execution_count": 2,
      "outputs": [
        {
          "output_type": "stream",
          "name": "stdout",
          "text": [
            "Encoded data:\n",
            "[2. 2.]\n",
            "[1. 1.]\n",
            "[0. 0.]\n",
            "[0. 2.]\n",
            "[2. 0.]\n",
            "\n",
            "Decoded data:\n",
            "['red' 'small']\n",
            "['green' 'medium']\n",
            "['blue' 'large']\n",
            "['blue' 'small']\n",
            "['red' 'large']\n"
          ]
        }
      ]
    },
    {
      "cell_type": "markdown",
      "source": [
        "The `LabelEncoder` and `OrdinalEncoder` are both tools for converting categorical data into numerical representations. While `LabelEncoder` works with one-dimensional data (like a single column), `OrdinalEncoder` is designed for two-dimensional data, making it suitable for handling multiple columns simultaneously. Both provide methods for reversing the encoding process, but `OrdinalEncoder` requires working with a 2D array for inverse transformation.\n",
        "\n",
        "For single categorical features, either encoder can be used interchangeably. However, when dealing with datasets containing multiple categorical features, `OrdinalEncoder` is more practical and efficient."
      ],
      "metadata": {
        "id": "y0e7RsbR7yjG"
      }
    }
  ]
}